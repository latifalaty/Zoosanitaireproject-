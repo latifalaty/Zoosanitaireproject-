{
  "cells": [
    {
      "cell_type": "markdown",
      "metadata": {
        "id": "0YdtGP-VH-FS"
      },
      "source": [
        "#importer les bibliotheque\n"
      ]
    },
    {
      "cell_type": "code",
      "execution_count": null,
      "metadata": {
        "id": "GCr40R-WICxH"
      },
      "outputs": [],
      "source": [
        "!pip install newspaper3k\n",
        "!pip install transformers\n",
        "!python -m spacy download en_core_web_lg\n",
        "# Créer un pipeline de traduction\n",
        "from newspaper import Article\n",
        "import re\n",
        "import spacy\n",
        "from bs4 import BeautifulSoup\n",
        "import requests\n",
        "import time\n",
        "from requests.adapters import HTTPAdapter\n",
        "from requests.packages.urllib3.util.retry import Retry\n",
        "from spacy.tokens import DocBin\n",
        "from transformers import pipeline\n",
        "translator = pipeline(\"translation\", model=\"Helsinki-NLP/opus-mt-fr-en\")\n",
        "translator_ar_to_en = pipeline(\"translation\", model=\"Helsinki-NLP/opus-mt-ar-en\")\n",
        "!pip install sumy\n",
        "from sumy.parsers.plaintext import PlaintextParser\n",
        "from sumy.nlp.tokenizers import Tokenizer\n",
        "from sumy.summarizers.lsa import LsaSummarizer\n",
        "!pip install langdetect\n",
        "from langdetect import detect\n"
      ]
    },
    {
      "cell_type": "markdown",
      "metadata": {
        "id": "hrMlaSryIXZH"
      },
      "source": [
        "# web scrupping"
      ]
    },
    {
      "cell_type": "code",
      "execution_count": 31,
      "metadata": {
        "id": "Ocla9i-4Idzn"
      },
      "outputs": [],
      "source": [
        "\n",
        "def webscraping(url):\n",
        "\n",
        "    try:\n",
        "        # Utilisation d'une session avec gestion des erreurs SSL\n",
        "        session = requests.Session()\n",
        "        retry = Retry(connect=3, backoff_factor=0.5)\n",
        "        adapter = HTTPAdapter(max_retries=retry)\n",
        "        session.mount('http://', adapter)\n",
        "        session.mount('https://', adapter)\n",
        "\n",
        "        # En-tête User-Agent pour simuler une requête provenant d'un navigateur Web\n",
        "        headers = {\n",
        "            'User-Agent': 'Mozilla/5.0 (Windows NT 10.0; Win64; x64) AppleWebKit/537.36 (KHTML, like Gecko) Chrome/58.0.3029.110 Safari/537.3'\n",
        "        }\n",
        "\n",
        "        # Création de l'objet Article avec le User-Agent spécifié\n",
        "        article = Article(url)\n",
        "        response = session.get(url, headers=headers)\n",
        "\n",
        "        # Attendez 5 secondes pour simuler le chargement de la page\n",
        "        time.sleep(5)\n",
        "\n",
        "        article.download(input_html=response.text)\n",
        "        article.parse()\n",
        "        contenu = article.title + ' ' + article.text\n",
        "    except requests.exceptions.RequestException as e:\n",
        "        print(f\"Une erreur de requête s'est produite lors de l'extraction de l'article à l'URL {url}: {e}\")\n",
        "        return None, None\n",
        "    except Exception as e:\n",
        "        print(f\"Une erreur inattendue s'est produite lors de l'extraction de l'article à l'URL {url}: {e}\")\n",
        "        return None, None\n",
        "\n",
        "    date = article.publish_date\n",
        "\n",
        "    # Si la date de publication n'est pas disponible dans l'article, essayez de la chercher dans le HTML de la page\n",
        "    if date is None:\n",
        "        soup = BeautifulSoup(response.content, \"html.parser\")\n",
        "        datetime_spans = soup.find_all(\"span\", class_=lambda c: c and \"date\" in c)\n",
        "        for span in datetime_spans:\n",
        "            date = span.text.strip()  # Supprimer les espaces avant et après la date\n",
        "            break  # Sortir de la boucle après avoir trouvé une date\n",
        "\n",
        "    return date, contenu\n",
        "\n",
        "\n",
        "\n"
      ]
    },
    {
      "cell_type": "markdown",
      "metadata": {
        "id": "CBS4LqX6IjPf"
      },
      "source": [
        "# nettoyer le text"
      ]
    },
    {
      "cell_type": "code",
      "execution_count": 3,
      "metadata": {
        "id": "X_5foUp5Im9l"
      },
      "outputs": [],
      "source": [
        "def nettoyer_paragraphe(paragraphe):\n",
        "    # Enlever les retours à la ligne et les remplacer par des espaces\n",
        "    paragraphe_propre = re.sub(r'\\s+', ' ', paragraphe)\n",
        "\n",
        "    # Enlever la ponctuation\n",
        "    punc = '''!()-[]{};:'’\"\\,<>./?@#$%^&*_~'''\n",
        "    for ele in punc:\n",
        "        paragraphe_propre = paragraphe_propre.replace(ele, \" \")\n",
        "\n",
        "    return paragraphe_propre\n",
        "\n",
        "\n"
      ]
    },
    {
      "cell_type": "markdown",
      "metadata": {
        "id": "fxluexqVjQiE"
      },
      "source": [
        "#detecter la langue"
      ]
    },
    {
      "cell_type": "code",
      "execution_count": 4,
      "metadata": {
        "id": "llOomPgdjTSY"
      },
      "outputs": [],
      "source": [
        "\n",
        "\n",
        "def detect_language(text):\n",
        "    return detect(text)\n",
        "\n"
      ]
    },
    {
      "cell_type": "markdown",
      "metadata": {
        "id": "ySWvUJRXbBKm"
      },
      "source": [
        "#traduire de fr en ang"
      ]
    },
    {
      "cell_type": "code",
      "execution_count": 5,
      "metadata": {
        "id": "meh_r-rQORSI"
      },
      "outputs": [],
      "source": [
        "def translate_fr(text):\n",
        "  text_morceaux = [text[i:i+512] for i in range(0, len(text), 512)]\n",
        "  resultats = []\n",
        "  for morceau in text_morceaux:\n",
        "      resultat = translator(morceau)\n",
        "      resultats.append(resultat)\n",
        "  resultat_final = \" \".join([resultat[0]['translation_text'] for resultat in resultats])\n",
        "  return resultat_final"
      ]
    },
    {
      "cell_type": "markdown",
      "metadata": {
        "id": "xKIV_47G7581"
      },
      "source": [
        "#traduire de arabe en anglais\n"
      ]
    },
    {
      "cell_type": "code",
      "execution_count": 6,
      "metadata": {
        "id": "M1aIZl_47-62"
      },
      "outputs": [],
      "source": [
        "def translate_arabe(text):\n",
        "  text_morceaux = [text[i:i+512] for i in range(0, len(text), 512)]\n",
        "  resultats = []\n",
        "  for morceau in text_morceaux:\n",
        "      resultat = translator_ar_to_en(morceau)\n",
        "      resultats.append(resultat)\n",
        "  resultat_final = \" \".join([resultat[0]['translation_text'] for resultat in resultats])\n",
        "  return resultat_final"
      ]
    },
    {
      "cell_type": "markdown",
      "metadata": {
        "id": "sTZNtl5bIrJj"
      },
      "source": [
        "#importer le modele en local"
      ]
    },
    {
      "cell_type": "code",
      "execution_count": 7,
      "metadata": {
        "id": "77Xj1vKUEwdi"
      },
      "outputs": [],
      "source": [
        "from google.colab import files\n",
        "import zipfile\n",
        "import io\n"
      ]
    },
    {
      "cell_type": "code",
      "execution_count": 8,
      "metadata": {
        "colab": {
          "base_uri": "https://localhost:8080/",
          "height": 73
        },
        "id": "0I0lepW9FxJg",
        "outputId": "c1cb78bc-02ba-49d1-84f6-0c25dda7cdf1"
      },
      "outputs": [
        {
          "output_type": "display_data",
          "data": {
            "text/plain": [
              "<IPython.core.display.HTML object>"
            ],
            "text/html": [
              "\n",
              "     <input type=\"file\" id=\"files-02ae29f5-e7b6-4b67-b3f5-2176e1e3837a\" name=\"files[]\" multiple disabled\n",
              "        style=\"border:none\" />\n",
              "     <output id=\"result-02ae29f5-e7b6-4b67-b3f5-2176e1e3837a\">\n",
              "      Upload widget is only available when the cell has been executed in the\n",
              "      current browser session. Please rerun this cell to enable.\n",
              "      </output>\n",
              "      <script>// Copyright 2017 Google LLC\n",
              "//\n",
              "// Licensed under the Apache License, Version 2.0 (the \"License\");\n",
              "// you may not use this file except in compliance with the License.\n",
              "// You may obtain a copy of the License at\n",
              "//\n",
              "//      http://www.apache.org/licenses/LICENSE-2.0\n",
              "//\n",
              "// Unless required by applicable law or agreed to in writing, software\n",
              "// distributed under the License is distributed on an \"AS IS\" BASIS,\n",
              "// WITHOUT WARRANTIES OR CONDITIONS OF ANY KIND, either express or implied.\n",
              "// See the License for the specific language governing permissions and\n",
              "// limitations under the License.\n",
              "\n",
              "/**\n",
              " * @fileoverview Helpers for google.colab Python module.\n",
              " */\n",
              "(function(scope) {\n",
              "function span(text, styleAttributes = {}) {\n",
              "  const element = document.createElement('span');\n",
              "  element.textContent = text;\n",
              "  for (const key of Object.keys(styleAttributes)) {\n",
              "    element.style[key] = styleAttributes[key];\n",
              "  }\n",
              "  return element;\n",
              "}\n",
              "\n",
              "// Max number of bytes which will be uploaded at a time.\n",
              "const MAX_PAYLOAD_SIZE = 100 * 1024;\n",
              "\n",
              "function _uploadFiles(inputId, outputId) {\n",
              "  const steps = uploadFilesStep(inputId, outputId);\n",
              "  const outputElement = document.getElementById(outputId);\n",
              "  // Cache steps on the outputElement to make it available for the next call\n",
              "  // to uploadFilesContinue from Python.\n",
              "  outputElement.steps = steps;\n",
              "\n",
              "  return _uploadFilesContinue(outputId);\n",
              "}\n",
              "\n",
              "// This is roughly an async generator (not supported in the browser yet),\n",
              "// where there are multiple asynchronous steps and the Python side is going\n",
              "// to poll for completion of each step.\n",
              "// This uses a Promise to block the python side on completion of each step,\n",
              "// then passes the result of the previous step as the input to the next step.\n",
              "function _uploadFilesContinue(outputId) {\n",
              "  const outputElement = document.getElementById(outputId);\n",
              "  const steps = outputElement.steps;\n",
              "\n",
              "  const next = steps.next(outputElement.lastPromiseValue);\n",
              "  return Promise.resolve(next.value.promise).then((value) => {\n",
              "    // Cache the last promise value to make it available to the next\n",
              "    // step of the generator.\n",
              "    outputElement.lastPromiseValue = value;\n",
              "    return next.value.response;\n",
              "  });\n",
              "}\n",
              "\n",
              "/**\n",
              " * Generator function which is called between each async step of the upload\n",
              " * process.\n",
              " * @param {string} inputId Element ID of the input file picker element.\n",
              " * @param {string} outputId Element ID of the output display.\n",
              " * @return {!Iterable<!Object>} Iterable of next steps.\n",
              " */\n",
              "function* uploadFilesStep(inputId, outputId) {\n",
              "  const inputElement = document.getElementById(inputId);\n",
              "  inputElement.disabled = false;\n",
              "\n",
              "  const outputElement = document.getElementById(outputId);\n",
              "  outputElement.innerHTML = '';\n",
              "\n",
              "  const pickedPromise = new Promise((resolve) => {\n",
              "    inputElement.addEventListener('change', (e) => {\n",
              "      resolve(e.target.files);\n",
              "    });\n",
              "  });\n",
              "\n",
              "  const cancel = document.createElement('button');\n",
              "  inputElement.parentElement.appendChild(cancel);\n",
              "  cancel.textContent = 'Cancel upload';\n",
              "  const cancelPromise = new Promise((resolve) => {\n",
              "    cancel.onclick = () => {\n",
              "      resolve(null);\n",
              "    };\n",
              "  });\n",
              "\n",
              "  // Wait for the user to pick the files.\n",
              "  const files = yield {\n",
              "    promise: Promise.race([pickedPromise, cancelPromise]),\n",
              "    response: {\n",
              "      action: 'starting',\n",
              "    }\n",
              "  };\n",
              "\n",
              "  cancel.remove();\n",
              "\n",
              "  // Disable the input element since further picks are not allowed.\n",
              "  inputElement.disabled = true;\n",
              "\n",
              "  if (!files) {\n",
              "    return {\n",
              "      response: {\n",
              "        action: 'complete',\n",
              "      }\n",
              "    };\n",
              "  }\n",
              "\n",
              "  for (const file of files) {\n",
              "    const li = document.createElement('li');\n",
              "    li.append(span(file.name, {fontWeight: 'bold'}));\n",
              "    li.append(span(\n",
              "        `(${file.type || 'n/a'}) - ${file.size} bytes, ` +\n",
              "        `last modified: ${\n",
              "            file.lastModifiedDate ? file.lastModifiedDate.toLocaleDateString() :\n",
              "                                    'n/a'} - `));\n",
              "    const percent = span('0% done');\n",
              "    li.appendChild(percent);\n",
              "\n",
              "    outputElement.appendChild(li);\n",
              "\n",
              "    const fileDataPromise = new Promise((resolve) => {\n",
              "      const reader = new FileReader();\n",
              "      reader.onload = (e) => {\n",
              "        resolve(e.target.result);\n",
              "      };\n",
              "      reader.readAsArrayBuffer(file);\n",
              "    });\n",
              "    // Wait for the data to be ready.\n",
              "    let fileData = yield {\n",
              "      promise: fileDataPromise,\n",
              "      response: {\n",
              "        action: 'continue',\n",
              "      }\n",
              "    };\n",
              "\n",
              "    // Use a chunked sending to avoid message size limits. See b/62115660.\n",
              "    let position = 0;\n",
              "    do {\n",
              "      const length = Math.min(fileData.byteLength - position, MAX_PAYLOAD_SIZE);\n",
              "      const chunk = new Uint8Array(fileData, position, length);\n",
              "      position += length;\n",
              "\n",
              "      const base64 = btoa(String.fromCharCode.apply(null, chunk));\n",
              "      yield {\n",
              "        response: {\n",
              "          action: 'append',\n",
              "          file: file.name,\n",
              "          data: base64,\n",
              "        },\n",
              "      };\n",
              "\n",
              "      let percentDone = fileData.byteLength === 0 ?\n",
              "          100 :\n",
              "          Math.round((position / fileData.byteLength) * 100);\n",
              "      percent.textContent = `${percentDone}% done`;\n",
              "\n",
              "    } while (position < fileData.byteLength);\n",
              "  }\n",
              "\n",
              "  // All done.\n",
              "  yield {\n",
              "    response: {\n",
              "      action: 'complete',\n",
              "    }\n",
              "  };\n",
              "}\n",
              "\n",
              "scope.google = scope.google || {};\n",
              "scope.google.colab = scope.google.colab || {};\n",
              "scope.google.colab._files = {\n",
              "  _uploadFiles,\n",
              "  _uploadFilesContinue,\n",
              "};\n",
              "})(self);\n",
              "</script> "
            ]
          },
          "metadata": {}
        },
        {
          "output_type": "stream",
          "name": "stdout",
          "text": [
            "Saving modelar.zip to modelar.zip\n"
          ]
        }
      ],
      "source": [
        "uploaded = files.upload()"
      ]
    },
    {
      "cell_type": "code",
      "execution_count": 9,
      "metadata": {
        "id": "pRhBy4wUG5lE"
      },
      "outputs": [],
      "source": [
        "import os\n",
        "# Créer un répertoire pour extraire les fichiers ZIP\n",
        "output_directory = '/content'\n",
        "os.makedirs(output_directory, exist_ok=True)\n",
        "\n",
        "for fn in uploaded.keys():\n",
        "    # Vérifiez si le fichier est un fichier ZIP\n",
        "    if fn.endswith('.zip'):\n",
        "        # Extraire le nom du fichier ZIP sans extension\n",
        "        folder_name = os.path.splitext(fn)[0]\n",
        "        # Créer un répertoire pour ce fichier ZIP\n",
        "        folder_path = os.path.join(output_directory, folder_name)\n",
        "        os.makedirs(folder_path, exist_ok=True)\n",
        "        # Extraire le contenu du fichier ZIP dans le répertoire correspondant\n",
        "        with zipfile.ZipFile(io.BytesIO(uploaded[fn]), 'r') as zip_ref:\n",
        "            zip_ref.extractall(folder_path)\n",
        "\n"
      ]
    },
    {
      "cell_type": "markdown",
      "metadata": {
        "id": "MWWUeqHyLlOw"
      },
      "source": [
        "#extraire les maladies anglais"
      ]
    },
    {
      "cell_type": "code",
      "execution_count": null,
      "metadata": {
        "id": "0yKOXXq3LpFi"
      },
      "outputs": [],
      "source": [
        "def extraire_maladie_ang(text):\n",
        "    nlp1 = spacy.load(\"/content/modelanglais2/modelanglais2/model-best\")\n",
        "    doc = nlp1(text)\n",
        "    maladies = set()\n",
        "    for ent in doc.ents:\n",
        "        if ent.label_ == \"DISEASE\":\n",
        "             maladie = ent.text.lower()  # Convertir en minuscules pour normaliser\n",
        "            # Vérifier si la maladie n'a pas déjà été ajoutée ou une version similaire\n",
        "             if maladie not in maladies:\n",
        "                 maladies.add(maladie)\n",
        "    return(maladies)"
      ]
    },
    {
      "cell_type": "code",
      "source": [
        "def extraire_maladie_fr(text):\n",
        "    nlp1 = spacy.load(\"/content/modelfrancais2/modelfrancais2/model-best\")\n",
        "    doc = nlp1(text)\n",
        "    maladies = set()\n",
        "    for ent in doc.ents:\n",
        "        if ent.label_ == \"DISEASE\":\n",
        "             maladie = ent.text.lower()  # Convertir en minuscules pour normaliser\n",
        "            # Vérifier si la maladie n'a pas déjà été ajoutée ou une version similaire\n",
        "             if maladie not in maladies :\n",
        "                maladies.add(maladie)\n",
        "    return(maladies)"
      ],
      "metadata": {
        "id": "QYtWU-vgzRVc"
      },
      "execution_count": null,
      "outputs": []
    },
    {
      "cell_type": "code",
      "source": [
        "def extraire_maladie_ar(text):\n",
        "    nlp1 = spacy.load(\"/content/modelar/modelar/model-best\")\n",
        "    doc = nlp1(text)\n",
        "    maladies = set()\n",
        "    mot=(\"السل\",\"الجدري \",\"البروسيلا\")\n",
        "    for ent in doc.ents:\n",
        "        if ent.label_ == \"DISEASE\":\n",
        "             maladie=ent.text\n",
        "            # Vérifier si la maladie n'a pas déjà été ajoutée ou une version similaire\n",
        "             if maladie not in maladies :\n",
        "              #if  bool(re.match(r'^\\w+$', maladie))==False and (maladie  in mot):\n",
        "                  maladies.add(maladie)\n",
        "    return(maladies)"
      ],
      "metadata": {
        "id": "Eb942fhw7UNb"
      },
      "execution_count": 43,
      "outputs": []
    },
    {
      "cell_type": "markdown",
      "metadata": {
        "id": "KHJM5RvUJxrU"
      },
      "source": [
        "#extraire localisation anglais"
      ]
    },
    {
      "cell_type": "code",
      "execution_count": 11,
      "metadata": {
        "id": "DpixrmxCIqtE"
      },
      "outputs": [],
      "source": [
        "def extract_country_ang(text):\n",
        "    text = text.title()\n",
        "    nlp = spacy.load(\"en_core_web_lg\")\n",
        "    doc = nlp(text)\n",
        "\n",
        "    # Extract countries from doc\n",
        "    countries = []\n",
        "\n",
        "    for ent in doc.ents:\n",
        "        if (ent.label_ == \"LOC_B\" or ent.label_ == \"GPE\") and ent.text not in countries:\n",
        "            countries.append(ent.text)\n",
        "\n",
        "    return countries\n",
        "\n"
      ]
    },
    {
      "cell_type": "markdown",
      "metadata": {
        "id": "lMl6xqCvI963"
      },
      "source": [
        "#resumer de l article"
      ]
    },
    {
      "cell_type": "code",
      "execution_count": 12,
      "metadata": {
        "id": "EkLJisarJMD-"
      },
      "outputs": [],
      "source": [
        "\n",
        "def summarize_article(article_text, sentences_count=3):\n",
        "    parser = PlaintextParser.from_string(article_text, Tokenizer(\"english\"))\n",
        "    summarizer = LsaSummarizer()\n",
        "    summary = summarizer(parser.document, sentences_count)\n",
        "    return \" \".join(str(sentence) for sentence in summary)\n",
        "\n",
        "\n",
        "\n",
        "\n"
      ]
    },
    {
      "cell_type": "markdown",
      "metadata": {
        "id": "6aXPxydVc-5X"
      },
      "source": [
        "#main\n"
      ]
    },
    {
      "cell_type": "code",
      "execution_count": 50,
      "metadata": {
        "colab": {
          "base_uri": "https://localhost:8080/"
        },
        "id": "811ijIOf9-Kn",
        "outputId": "68d279c2-41f4-4650-d101-8275757637d0"
      },
      "outputs": [
        {
          "output_type": "stream",
          "name": "stdout",
          "text": [
            "تحصين 51% من الماشية ضد مرض الجلد العقدي بالأقصر \n",
            "Date de publication: القاهرة: الإثنين، 22 أبريل 2024 07:59 م\n",
            "Résumé: تحصين 51% من الماشية ضد مرض الجلد العقدي بالأقصر\n",
            "Maladies: {'الجلد العقدي'}\n",
            "Pays: []\n"
          ]
        }
      ],
      "source": [
        "urls = [\"https://akhbarelyom.com/news/newdetails/4309637/1/%D8%AA%D8%AD%D8%B5%D9%8A%D9%86-51-%D9%85%D9%86-%D8%A7%D9%84%D9%85%D8%A7%D8%B4%D9%8A%D8%A9-%D8%B6%D8%AF-%D9%85%D8%B1%D8%B6-%D8%A7%D9%84%D8%AC%D9%84%D8%AF-%D8%A7%D9%84%D8%B9%D9%82%D8%AF%D9%8A-\"]\n",
        "for url in urls:\n",
        "    (date, contenu) = webscraping(url)\n",
        "    print(contenu)\n",
        "    if contenu is not None:\n",
        "        if detect_language(contenu) == \"fr\":\n",
        "          contenu_ang = translate_fr(contenu)\n",
        "          maladies = extraire_maladie_fr(nettoyer_paragraphe(contenu))\n",
        "        elif detect_language(contenu) == \"ar\":\n",
        "          contenu_ang = translate_arabe(contenu)\n",
        "          maladies = extraire_maladie_ar(nettoyer_paragraphe(contenu))\n",
        "        elif detect_language(contenu) == \"en\":\n",
        "          contenu_ang=contenu\n",
        "          maladies = extraire_maladie_ang(nettoyer_paragraphe(contenu_ang))\n",
        "        else:\n",
        "          print(\"Langue non supportée\")\n",
        "          break;\n",
        "\n",
        "        contenu_nettoye = nettoyer_paragraphe(contenu_ang)\n",
        "\n",
        "        summary=summarize_article(contenu, sentences_count=4)\n",
        "        pays = extract_country_ang(contenu_nettoye)\n",
        "        print(\"Date de publication:\", date)\n",
        "        print(\"Résumé:\", summary)\n",
        "        print(\"Maladies:\", maladies)\n",
        "        print(\"Pays:\", pays)\n",
        "\n"
      ]
    },
    {
      "cell_type": "code",
      "execution_count": null,
      "metadata": {
        "colab": {
          "base_uri": "https://localhost:8080/"
        },
        "id": "opAl_XvPvMvT",
        "outputId": "acb3d338-6d8f-4a35-f226-611636356847"
      },
      "outputs": [
        {
          "data": {
            "text/plain": [
              "[]"
            ]
          },
          "execution_count": 39,
          "metadata": {},
          "output_type": "execute_result"
        }
      ],
      "source": []
    }
  ],
  "metadata": {
    "colab": {
      "provenance": []
    },
    "kernelspec": {
      "display_name": "Python 3",
      "name": "python3"
    },
    "language_info": {
      "name": "python"
    }
  },
  "nbformat": 4,
  "nbformat_minor": 0
}